{
 "cells": [
  {
   "cell_type": "code",
   "execution_count": 4,
   "metadata": {
    "id": "dZKtkDnC9jR3"
   },
   "outputs": [],
   "source": [
    "# importing libraries\n",
    "import json\n",
    "import numpy as np\n",
    "from tqdm import tqdm\n",
    "from collections import defaultdict\n",
    "from scipy import spatial\n",
    "from sklearn.feature_extraction.text import CountVectorizer\n",
    "from sklearn.decomposition import TruncatedSVD\n",
    "from sklearn.manifold import TSNE\n",
    "import gensim\n",
    "from scipy import sparse\n",
    "import matplotlib.pyplot as plt\n",
    "%matplotlib inline"
   ]
  },
  {
   "cell_type": "code",
   "execution_count": 7,
   "metadata": {},
   "outputs": [
    {
     "name": "stdout",
     "output_type": "stream",
     "text": [
      "/home2/rodosingh/AssignmentsProjects/Assignment-2-NLP/2021701028\n"
     ]
    }
   ],
   "source": [
    "!pwd"
   ]
  },
  {
   "cell_type": "markdown",
   "metadata": {
    "id": "P3_GK2k2Xmos"
   },
   "source": [
    "# **Section 1:- Training**"
   ]
  },
  {
   "cell_type": "markdown",
   "metadata": {
    "id": "3Gm_RiG1odRv"
   },
   "source": [
    "# Question 1"
   ]
  },
  {
   "cell_type": "code",
   "execution_count": 8,
   "metadata": {
    "colab": {
     "base_uri": "https://localhost:8080/"
    },
    "id": "YiNjfK6eB4d2",
    "outputId": "c9b8b5d9-07d2-48c6-e51a-907985f70de7"
   },
   "outputs": [
    {
     "name": "stderr",
     "output_type": "stream",
     "text": [
      "1689188it [01:59, 14188.96it/s]\n"
     ]
    }
   ],
   "source": [
    "# loading data. Consider changing the path to the actual path where file is present\n",
    "data = []\n",
    "with open('/home2/rodosingh/AssignmentsProjects/Assignment-2-NLP/reviews_Electronics_5.json') as file:\n",
    "    for line in tqdm(file):\n",
    "        data.append(''.join(ch if ch.isalnum() else ' ' for ch in json.loads(line)['reviewText'].lower()))\n",
    "    file.close()"
   ]
  },
  {
   "cell_type": "code",
   "execution_count": 9,
   "metadata": {
    "colab": {
     "base_uri": "https://localhost:8080/"
    },
    "id": "nZAUElDkFXMY",
    "outputId": "ca3fd5e8-49c3-4a70-fed6-88efd2612ec4"
   },
   "outputs": [
    {
     "data": {
      "text/plain": [
       "1689188"
      ]
     },
     "execution_count": 9,
     "metadata": {},
     "output_type": "execute_result"
    }
   ],
   "source": [
    "len(data)"
   ]
  },
  {
   "cell_type": "code",
   "execution_count": 10,
   "metadata": {
    "colab": {
     "base_uri": "https://localhost:8080/",
     "height": 120
    },
    "id": "Azet4z7tKYGp",
    "outputId": "1ecec1d0-a2c0-4e79-d9ed-f4b9e49ec6c5"
   },
   "outputs": [
    {
     "data": {
      "text/plain": [
       "'we got this gps for my husband who is an  otr  over the road trucker   very impressed with the shipping time  it arrived a few days earlier than expected     within a week of use however it started freezing up    could of just been a glitch in that unit   worked great when it worked   will work great for the normal person as well but does have the  trucker  option   the big truck routes   tells you when a scale is coming up ect      love the bigger screen  the ease of use  the ease of putting addresses into memory   nothing really bad to say about the unit with the exception of it freezing which is probably one in a million and that s just my luck   i contacted the seller and within minutes of my email i received a email back with instructions for an exchange  very impressed all the way around '"
      ]
     },
     "execution_count": 10,
     "metadata": {},
     "output_type": "execute_result"
    }
   ],
   "source": [
    "data[0]"
   ]
  },
  {
   "cell_type": "code",
   "execution_count": 9,
   "metadata": {
    "colab": {
     "base_uri": "https://localhost:8080/"
    },
    "id": "yvXUzGPxeIfL",
    "outputId": "2c29fbf5-7ad2-4dff-afb4-d44d72f0dd05"
   },
   "outputs": [
    {
     "name": "stderr",
     "output_type": "stream",
     "text": [
      "100%|██████████| 1689188/1689188 [01:05<00:00, 25664.16it/s]\n"
     ]
    }
   ],
   "source": [
    "# Creating word frequency dict\n",
    "words_freq = defaultdict(int)\n",
    "for line in tqdm(data):\n",
    "    line = line.split()\n",
    "    for word in line:\n",
    "        words_freq[word]+=1"
   ]
  },
  {
   "cell_type": "code",
   "execution_count": 10,
   "metadata": {
    "colab": {
     "base_uri": "https://localhost:8080/"
    },
    "id": "927fNvUrrXdL",
    "outputId": "87af7505-55a8-4fd3-a13d-64b2eacdc3dd"
   },
   "outputs": [
    {
     "name": "stderr",
     "output_type": "stream",
     "text": [
      "100%|██████████| 1689188/1689188 [00:58<00:00, 29043.31it/s]\n"
     ]
    }
   ],
   "source": [
    "# Data after removing less frequent words\n",
    "data_2 = []\n",
    "for sentence in tqdm(data):\n",
    "    data_2.append(' '.join([word for word in sentence.split() if words_freq[word]>4]))"
   ]
  },
  {
   "cell_type": "code",
   "execution_count": 11,
   "metadata": {
    "id": "DcD7tQAfHlZH"
   },
   "outputs": [],
   "source": [
    "# Creating count vectorizer matrix to make count matrix\n",
    "vectorizer = CountVectorizer()\n",
    "vectorized_mat = vectorizer.fit_transform(data_2)\n",
    "\n",
    "token_list = vectorizer.get_feature_names()"
   ]
  },
  {
   "cell_type": "code",
   "execution_count": 12,
   "metadata": {
    "id": "fgCxzW4Qcok3"
   },
   "outputs": [],
   "source": [
    "# Saving token list to a txt file\n",
    "with open(\"models/tokens_list.txt\", \"w\") as outfile:\n",
    "    outfile.write(\"\\n\".join(token_list))"
   ]
  },
  {
   "cell_type": "code",
   "execution_count": 13,
   "metadata": {
    "colab": {
     "base_uri": "https://localhost:8080/"
    },
    "id": "Ta12SKFvIWP-",
    "outputId": "b26ba8c2-75be-44a9-bb62-9763b255dd6e"
   },
   "outputs": [
    {
     "data": {
      "text/plain": [
       "(1689188, 100679)"
      ]
     },
     "execution_count": 13,
     "metadata": {},
     "output_type": "execute_result"
    }
   ],
   "source": [
    "vectorized_mat.shape"
   ]
  },
  {
   "cell_type": "code",
   "execution_count": 15,
   "metadata": {
    "id": "ZWiJSJVYIYSv"
   },
   "outputs": [],
   "source": [
    "# Creating co-occurence matrix\n",
    "co_occ_mat = vectorized_mat.T*vectorized_mat"
   ]
  },
  {
   "cell_type": "code",
   "execution_count": 16,
   "metadata": {
    "id": "LruImAqOwqmJ"
   },
   "outputs": [],
   "source": [
    "co_occ_mat.setdiag(0)"
   ]
  },
  {
   "cell_type": "code",
   "execution_count": 17,
   "metadata": {
    "colab": {
     "base_uri": "https://localhost:8080/"
    },
    "id": "YFxzxH4rIYM_",
    "outputId": "0ef4bad4-a63a-4e89-eecf-a81507becdb2"
   },
   "outputs": [
    {
     "data": {
      "text/plain": [
       "(100679, 100679)"
      ]
     },
     "execution_count": 17,
     "metadata": {},
     "output_type": "execute_result"
    }
   ],
   "source": [
    "co_occ_mat.shape"
   ]
  },
  {
   "cell_type": "code",
   "execution_count": 18,
   "metadata": {
    "id": "9AOi126Omp0B"
   },
   "outputs": [],
   "source": [
    "# Saving co-occurence matrix to prevent crashing the ram\n",
    "sparse.save_npz(\"models/co_occurence.npz\", co_occ_mat)"
   ]
  },
  {
   "cell_type": "code",
   "execution_count": 2,
   "metadata": {
    "id": "Man6Rcw6cg5B"
   },
   "outputs": [],
   "source": [
    "# Load the saved co-occurence matrix\n",
    "# Consider restarting the server if you are running the cell from training section as it might crash the server\n",
    "co_occ_mat = sparse.load_npz(\"models/co_occurence.npz\")"
   ]
  },
  {
   "cell_type": "code",
   "execution_count": 3,
   "metadata": {
    "id": "WJUZlW6oIYFA"
   },
   "outputs": [],
   "source": [
    "# Create svd matrix and take top n features, here 256 is used\n",
    "svd = TruncatedSVD(n_components=256)\n",
    "svd_mat = svd.fit_transform(co_occ_mat)"
   ]
  },
  {
   "cell_type": "code",
   "execution_count": 4,
   "metadata": {
    "colab": {
     "base_uri": "https://localhost:8080/"
    },
    "id": "ISvmQfViw4uU",
    "outputId": "b5dcca23-8046-46b0-b41d-5e82cf5fe4f3"
   },
   "outputs": [
    {
     "data": {
      "text/plain": [
       "(100679, 256)"
      ]
     },
     "execution_count": 4,
     "metadata": {},
     "output_type": "execute_result"
    }
   ],
   "source": [
    "svd_mat.shape"
   ]
  },
  {
   "cell_type": "code",
   "execution_count": 5,
   "metadata": {
    "id": "Sq39_WLRZA3j"
   },
   "outputs": [],
   "source": [
    "np.savetxt('models/svd_matrix.txt', svd_mat)"
   ]
  },
  {
   "cell_type": "code",
   "execution_count": null,
   "metadata": {
    "id": "K_FuKrRAT44m"
   },
   "outputs": [],
   "source": []
  },
  {
   "cell_type": "code",
   "execution_count": null,
   "metadata": {
    "id": "_20uQIR_T5xT"
   },
   "outputs": [],
   "source": []
  },
  {
   "cell_type": "markdown",
   "metadata": {
    "id": "_aRPROc4XbvI"
   },
   "source": [
    "# **Section 2:- Inference**"
   ]
  },
  {
   "cell_type": "code",
   "execution_count": 4,
   "metadata": {
    "id": "GLL5eiyhh06j"
   },
   "outputs": [],
   "source": [
    "# Read token list file\n",
    "token_list = []\n",
    "with open(\"models/tokens_list.txt\", \"r\") as outfile:\n",
    "    for line in outfile:\n",
    "        token_list.append(line.strip('\\n'))"
   ]
  },
  {
   "cell_type": "code",
   "execution_count": 5,
   "metadata": {
    "id": "h9tMYUWdZB6O"
   },
   "outputs": [],
   "source": [
    "# Read svd matrix\n",
    "svd_mat = np.loadtxt('models/svd_matrix.txt')"
   ]
  },
  {
   "cell_type": "code",
   "execution_count": 6,
   "metadata": {
    "id": "UOIXdfGwP7iY"
   },
   "outputs": [],
   "source": [
    "# Function to calculate the top10 words and plot using t-SNE\n",
    "def plot_top10_words(word, token_list, svd_mat):\n",
    "\n",
    "    def tsne_plot(results):\n",
    "        words = []\n",
    "        embeds = []\n",
    "\n",
    "        for res in results:\n",
    "            embeds.append(res[1])\n",
    "            words.append(res[0])\n",
    "        \n",
    "        tsne_model = TSNE(init='pca')\n",
    "        res_embeds = tsne_model.fit_transform(embeds)\n",
    "\n",
    "        x_axis_val = []\n",
    "        y_axis_val = []\n",
    "        for val in res_embeds:\n",
    "            x_axis_val.append(val[0])\n",
    "            y_axis_val.append(val[1])\n",
    "            \n",
    "        plt.figure(figsize=(10, 10)) \n",
    "        for i in range(len(x_axis_val)):\n",
    "            plt.scatter(x_axis_val[i],y_axis_val[i])\n",
    "            plt.annotate(words[i],\n",
    "                        xy=(x_axis_val[i],y_axis_val[i]),\n",
    "                        xytext=(5, 2),\n",
    "                        textcoords='offset points',\n",
    "                        ha='right',\n",
    "                        va='bottom')\n",
    "        plt.show()\n",
    "    \n",
    "    word_index = token_list.index(word)\n",
    "    word_embed = svd_mat[word_index]\n",
    "    res = {}\n",
    "    for i, embed in tqdm(enumerate(svd_mat)):\n",
    "        if i!=word_index:\n",
    "            res[i] = [1 - spatial.distance.cosine(svd_mat[i], word_embed), svd_mat[i]]\n",
    "\n",
    "\n",
    "    results = []\n",
    "    for t in sorted(res.items(), key=lambda item: item[1][0], reverse=True)[0:10]:\n",
    "        results.append([token_list[t[0]], t[1][1]])\n",
    "\n",
    "    print('Word:-', word)\n",
    "    print('Words:-', end='\\t')\n",
    "    for res in results:\n",
    "        print(res[0], end=', ')\n",
    "    print()\n",
    "\n",
    "    tsne_plot(results) "
   ]
  },
  {
   "cell_type": "markdown",
   "metadata": {
    "id": "7DLPNWl1oirR"
   },
   "source": [
    "# Question 3"
   ]
  },
  {
   "cell_type": "code",
   "execution_count": 7,
   "metadata": {
    "colab": {
     "base_uri": "https://localhost:8080/",
     "height": 656
    },
    "id": "lmZQhbLtaVAe",
    "outputId": "c5dd6922-fb78-4182-dcac-3b8cd2adad0e"
   },
   "outputs": [
    {
     "name": "stderr",
     "output_type": "stream",
     "text": [
      "100679it [00:04, 23751.11it/s]\n"
     ]
    },
    {
     "name": "stdout",
     "output_type": "stream",
     "text": [
      "Word:- payment\n",
      "Words:-\tfee, fees, billing, expire, membership, contract, redeem, monthly, service, policies, \n"
     ]
    },
    {
     "data": {
      "image/png": "[encoded data removed]",
      "text/plain": [
       "<Figure size 720x720 with 1 Axes>"
      ]
     },
     "metadata": {
      "needs_background": "light"
     },
     "output_type": "display_data"
    }
   ],
   "source": [
    "plot_top10_words('payment', token_list, svd_mat)"
   ]
  },
  {
   "cell_type": "code",
   "execution_count": 8,
   "metadata": {
    "colab": {
     "base_uri": "https://localhost:8080/",
     "height": 657
    },
    "id": "VmHvDd0aaUrl",
    "outputId": "fc741e85-5f12-4370-d99a-7e3da83fe844"
   },
   "outputs": [
    {
     "name": "stderr",
     "output_type": "stream",
     "text": [
      "100679it [00:04, 22547.16it/s]\n"
     ]
    },
    {
     "name": "stdout",
     "output_type": "stream",
     "text": [
      "Word:- laptop\n",
      "Words:-\truns, netbook, notebook, machine, desktop, flies, win, daily, computer, macbook, \n"
     ]
    },
    {
     "data": {
      "image/png": "[encoded data removed]",
      "text/plain": [
       "<Figure size 720x720 with 1 Axes>"
      ]
     },
     "metadata": {
      "needs_background": "light"
     },
     "output_type": "display_data"
    }
   ],
   "source": [
    "plot_top10_words('laptop', token_list, svd_mat)"
   ]
  },
  {
   "cell_type": "code",
   "execution_count": 9,
   "metadata": {
    "colab": {
     "base_uri": "https://localhost:8080/",
     "height": 656
    },
    "id": "eZiEIVg3xl2w",
    "outputId": "7f6d62aa-db48-4f9e-950a-53c0eb34ee1e"
   },
   "outputs": [
    {
     "name": "stderr",
     "output_type": "stream",
     "text": [
      "100679it [00:04, 23097.30it/s]\n"
     ]
    },
    {
     "name": "stdout",
     "output_type": "stream",
     "text": [
      "Word:- music\n",
      "Words:-\thear, apt, tunes, exercise, disturb, blasting, stereo, mixes, sing, heard, \n"
     ]
    },
    {
     "data": {
      "image/png": "[encoded data removed]",
      "text/plain": [
       "<Figure size 720x720 with 1 Axes>"
      ]
     },
     "metadata": {
      "needs_background": "light"
     },
     "output_type": "display_data"
    }
   ],
   "source": [
    "plot_top10_words('music', token_list, svd_mat)"
   ]
  },
  {
   "cell_type": "code",
   "execution_count": 10,
   "metadata": {
    "colab": {
     "base_uri": "https://localhost:8080/",
     "height": 643
    },
    "id": "JlRRBkPTxonz",
    "outputId": "f3d4b7c8-4e9e-452d-dbfe-50e99ada96b6"
   },
   "outputs": [
    {
     "name": "stderr",
     "output_type": "stream",
     "text": [
      "100679it [00:04, 23146.47it/s]\n"
     ]
    },
    {
     "name": "stdout",
     "output_type": "stream",
     "text": [
      "Word:- processor\n",
      "Words:-\tcore, intensive, quad, processors, horsepower, graphics, i5, tasks, scores, upgradeable, \n"
     ]
    },
    {
     "data": {
      "image/png": "[encoded data removed]",
      "text/plain": [
       "<Figure size 720x720 with 1 Axes>"
      ]
     },
     "metadata": {
      "needs_background": "light"
     },
     "output_type": "display_data"
    }
   ],
   "source": [
    "plot_top10_words('processor', token_list, svd_mat)"
   ]
  },
  {
   "cell_type": "code",
   "execution_count": 11,
   "metadata": {
    "colab": {
     "base_uri": "https://localhost:8080/",
     "height": 656
    },
    "id": "DxqoTnhcxqaj",
    "outputId": "cf1b468a-76bb-45b7-a073-d01bab26f131"
   },
   "outputs": [
    {
     "name": "stderr",
     "output_type": "stream",
     "text": [
      "100679it [00:04, 23016.93it/s]\n"
     ]
    },
    {
     "name": "stdout",
     "output_type": "stream",
     "text": [
      "Word:- screen\n",
      "Words:-\titself, flipping, counter, down, lastly, minor, paper, showing, leaves, off, \n"
     ]
    },
    {
     "data": {
      "image/png": "[encoded data removed]",
      "text/plain": [
       "<Figure size 720x720 with 1 Axes>"
      ]
     },
     "metadata": {
      "needs_background": "light"
     },
     "output_type": "display_data"
    }
   ],
   "source": [
    "plot_top10_words('screen', token_list, svd_mat)"
   ]
  },
  {
   "cell_type": "markdown",
   "metadata": {
    "id": "quNF_Y4romp0"
   },
   "source": [
    "# Question 4"
   ]
  },
  {
   "cell_type": "code",
   "execution_count": 12,
   "metadata": {
    "id": "koclQwDNqchF"
   },
   "outputs": [],
   "source": [
    "# Function to calculate the top10 words and plot using t-SNE\n",
    "def plot_top10_words_word2vec(word, cbow_own):\n",
    "\n",
    "    def tsne_plot(results):\n",
    "        words = []\n",
    "        embeds = []\n",
    "\n",
    "        for res in results:\n",
    "            embeds.append(res[1])\n",
    "            words.append(res[0])\n",
    "        \n",
    "        tsne_model = TSNE(init='pca')\n",
    "        res_embeds = tsne_model.fit_transform(embeds)\n",
    "\n",
    "        x_axis_val = []\n",
    "        y_axis_val = []\n",
    "        for val in res_embeds:\n",
    "            x_axis_val.append(val[0])\n",
    "            y_axis_val.append(val[1])\n",
    "            \n",
    "        plt.figure(figsize=(10, 10)) \n",
    "        for i in range(len(x_axis_val)):\n",
    "            plt.scatter(x_axis_val[i],y_axis_val[i])\n",
    "            plt.annotate(words[i],\n",
    "                        xy=(x_axis_val[i],y_axis_val[i]),\n",
    "                        xytext=(5, 2),\n",
    "                        textcoords='offset points',\n",
    "                        ha='right',\n",
    "                        va='bottom')\n",
    "        plt.show()\n",
    "    \n",
    "    similar_words = cbow_own.most_similar(positive=[word], topn = 10)\n",
    "    res = {}\n",
    "    for i, embed in tqdm(enumerate(similar_words)):\n",
    "        res[embed[0]] = [embed[1], cbow_own[embed[0]]]\n",
    "\n",
    "\n",
    "    results = []\n",
    "    for t in sorted(res.items(), key=lambda item: item[1][0], reverse=True)[0:10]:\n",
    "        results.append([t[0], t[1][1]])\n",
    "\n",
    "    print('Word:-', word)\n",
    "    print('Words:-', end='\\t')\n",
    "    for res in results:\n",
    "        print(res[0], end=', ')\n",
    "    print()\n",
    "\n",
    "    tsne_plot(results)"
   ]
  },
  {
   "cell_type": "code",
   "execution_count": 13,
   "metadata": {
    "colab": {
     "base_uri": "https://localhost:8080/",
     "height": 656
    },
    "id": "kKa4Lwyfxrhz",
    "outputId": "8a33cfa1-b83a-4a4f-bcaf-91c4c508d157"
   },
   "outputs": [
    {
     "name": "stderr",
     "output_type": "stream",
     "text": [
      "100679it [00:04, 22742.16it/s]\n"
     ]
    },
    {
     "name": "stdout",
     "output_type": "stream",
     "text": [
      "Word:- camera\n",
      "Words:-\tframe, handheld, hunting, backgrounds, stops, minimum, variable, practice, 2x, close, \n"
     ]
    },
    {
     "data": {
      "image/png": "[encoded data removed]",
      "text/plain": [
       "<Figure size 720x720 with 1 Axes>"
      ]
     },
     "metadata": {
      "needs_background": "light"
     },
     "output_type": "display_data"
    }
   ],
   "source": [
    "plot_top10_words('camera', token_list, svd_mat)"
   ]
  },
  {
   "cell_type": "code",
   "execution_count": 14,
   "metadata": {
    "id": "Bj4hUqMux_s7"
   },
   "outputs": [],
   "source": [
    "# if pretrained word2vec not present uncomment below code and run this cell\n",
    "\n",
    "# !wget -c \"https://s3.amazonaws.com/dl4j-distribution/GoogleNews-vectors-negative300.bin.gz\"\n",
    "\n",
    "# !gzip -d GoogleNews-vectors-negative300.bin.gz"
   ]
  },
  {
   "cell_type": "code",
   "execution_count": 15,
   "metadata": {
    "id": "1aSYdVtxo5wK"
   },
   "outputs": [],
   "source": [
    "# load pretrained model\n",
    "# Consider restarting before running this cell as this might crash server\n",
    "pretrained_word2vec = gensim.models.KeyedVectors.load_word2vec_format('GoogleNews-vectors-negative300.bin', binary=True)"
   ]
  },
  {
   "cell_type": "code",
   "execution_count": 16,
   "metadata": {
    "colab": {
     "base_uri": "https://localhost:8080/",
     "height": 643
    },
    "id": "-Xu-xYnnpZLo",
    "outputId": "3381f6b8-af74-4dda-a647-547475f45f1a"
   },
   "outputs": [
    {
     "name": "stderr",
     "output_type": "stream",
     "text": [
      "10it [00:00, 8476.77it/s]\n"
     ]
    },
    {
     "name": "stdout",
     "output_type": "stream",
     "text": [
      "Word:- camera\n",
      "Words:-\tcameras, Wagging_finger, camera_lens, camcorder, Camera, Canon_digital_SLR, Cameras, Nikon_D####_digital_SLR, tripod, EyeToy_USB, \n"
     ]
    },
    {
     "data": {
      "image/png": "[encoded data removed]",
      "text/plain": [
       "<Figure size 720x720 with 1 Axes>"
      ]
     },
     "metadata": {
      "needs_background": "light"
     },
     "output_type": "display_data"
    }
   ],
   "source": [
    "plot_top10_words_word2vec('camera', pretrained_word2vec)"
   ]
  },
  {
   "cell_type": "code",
   "execution_count": null,
   "metadata": {
    "id": "EnoGcuLwpeWO"
   },
   "outputs": [],
   "source": []
  }
 ],
 "metadata": {
  "colab": {
   "collapsed_sections": [
    "P3_GK2k2Xmos"
   ],
   "name": "SVD_co-occurence.ipynb",
   "provenance": []
  },
  "kernelspec": {
   "display_name": "Python 3 (ipykernel)",
   "language": "python",
   "name": "python3"
  },
  "language_info": {
   "codemirror_mode": {
    "name": "ipython",
    "version": 3
   },
   "file_extension": ".py",
   "mimetype": "text/x-python",
   "name": "python",
   "nbconvert_exporter": "python",
   "pygments_lexer": "ipython3",
   "version": "3.8.12"
  }
 },
 "nbformat": 4,
 "nbformat_minor": 4
}
