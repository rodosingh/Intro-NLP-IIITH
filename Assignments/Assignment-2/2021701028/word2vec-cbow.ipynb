{
 "cells": [
  {
   "cell_type": "code",
   "execution_count": 1,
   "metadata": {
    "_cell_guid": "b1076dfc-b9ad-4769-8c92-a6c4dae69d19",
    "_uuid": "8f2839f25d086af736a60e9eeb907d3b93b6e0e5",
    "execution": {
     "iopub.execute_input": "2021-09-11T06:10:59.723666Z",
     "iopub.status.busy": "2021-09-11T06:10:59.723295Z",
     "iopub.status.idle": "2021-09-11T06:11:05.021697Z",
     "shell.execute_reply": "2021-09-11T06:11:05.020877Z",
     "shell.execute_reply.started": "2021-09-11T06:10:59.723586Z"
    }
   },
   "outputs": [],
   "source": [
    "import numpy as np\n",
    "import json\n",
    "import gensim\n",
    "from tqdm import tqdm\n",
    "import tensorflow as tf\n",
    "import pickle\n",
    "from sklearn.model_selection import train_test_split\n",
    "from collections import defaultdict\n",
    "from sklearn.manifold import TSNE\n",
    "from scipy import sparse\n",
    "import matplotlib.pyplot as plt\n",
    "%matplotlib inline"
   ]
  },
  {
   "cell_type": "markdown",
   "metadata": {},
   "source": [
    "# **Section 1:- Training**"
   ]
  },
  {
   "cell_type": "markdown",
   "metadata": {},
   "source": [
    "# Question 2:-"
   ]
  },
  {
   "cell_type": "code",
   "execution_count": null,
   "metadata": {
    "execution": {
     "iopub.execute_input": "2021-09-08T16:58:53.85876Z",
     "iopub.status.busy": "2021-09-08T16:58:53.858429Z",
     "iopub.status.idle": "2021-09-08T17:01:20.370529Z",
     "shell.execute_reply": "2021-09-08T17:01:20.369536Z",
     "shell.execute_reply.started": "2021-09-08T16:58:53.858724Z"
    }
   },
   "outputs": [],
   "source": [
    "data = []\n",
    "with open('Electronics_5.json') as file:\n",
    "    for line in tqdm(file):\n",
    "        data.append(''.join(ch if ch.isalnum() else ' ' for ch in json.loads(line)['reviewText'].lower()))\n",
    "    file.close()"
   ]
  },
  {
   "cell_type": "code",
   "execution_count": null,
   "metadata": {
    "execution": {
     "iopub.execute_input": "2021-09-08T17:01:20.374914Z",
     "iopub.status.busy": "2021-09-08T17:01:20.374553Z",
     "iopub.status.idle": "2021-09-08T17:02:21.313253Z",
     "shell.execute_reply": "2021-09-08T17:02:21.3122Z",
     "shell.execute_reply.started": "2021-09-08T17:01:20.37488Z"
    }
   },
   "outputs": [],
   "source": [
    "word_freq = defaultdict(int)\n",
    "for sentence in tqdm(data):\n",
    "    sentence = sentence.split()\n",
    "    for word in sentence:\n",
    "        word_freq[word]+=1"
   ]
  },
  {
   "cell_type": "code",
   "execution_count": null,
   "metadata": {
    "execution": {
     "iopub.execute_input": "2021-09-08T17:02:21.315478Z",
     "iopub.status.busy": "2021-09-08T17:02:21.315131Z",
     "iopub.status.idle": "2021-09-08T17:03:14.059967Z",
     "shell.execute_reply": "2021-09-08T17:03:14.059134Z",
     "shell.execute_reply.started": "2021-09-08T17:02:21.315442Z"
    }
   },
   "outputs": [],
   "source": [
    "data_2 = []\n",
    "for sentence in tqdm(data):\n",
    "    sentence = sentence.split()\n",
    "    data_2.append(' '.join([word for word in sentence if word_freq[word]>4]))"
   ]
  },
  {
   "cell_type": "code",
   "execution_count": null,
   "metadata": {
    "execution": {
     "iopub.execute_input": "2021-09-08T17:03:14.062792Z",
     "iopub.status.busy": "2021-09-08T17:03:14.062345Z",
     "iopub.status.idle": "2021-09-08T17:03:15.068082Z",
     "shell.execute_reply": "2021-09-08T17:03:15.067202Z",
     "shell.execute_reply.started": "2021-09-08T17:03:14.062758Z"
    }
   },
   "outputs": [],
   "source": [
    "train, test = train_test_split(data_2, test_size=0.1, random_state=42)"
   ]
  },
  {
   "cell_type": "code",
   "execution_count": null,
   "metadata": {
    "execution": {
     "iopub.execute_input": "2021-09-08T17:03:15.069837Z",
     "iopub.status.busy": "2021-09-08T17:03:15.069404Z",
     "iopub.status.idle": "2021-09-08T17:05:07.768748Z",
     "shell.execute_reply": "2021-09-08T17:05:07.767901Z",
     "shell.execute_reply.started": "2021-09-08T17:03:15.069795Z"
    }
   },
   "outputs": [],
   "source": [
    "# tokenizer = tf.keras.preprocessing.text.Tokenizer()\n",
    "# tokenizer.fit_on_texts(data_2)\n",
    "\n",
    "with open('models/tokenizer.pickle', 'rb') as handle:\n",
    "    tokenizer = pickle.load(handle)\n",
    "\n",
    "train_tokenized_text = tokenizer.texts_to_sequences(train)\n",
    "test_tokenized_text = tokenizer.texts_to_sequences(test)"
   ]
  },
  {
   "cell_type": "code",
   "execution_count": null,
   "metadata": {
    "execution": {
     "iopub.execute_input": "2021-09-08T17:05:07.770383Z",
     "iopub.status.busy": "2021-09-08T17:05:07.770013Z",
     "iopub.status.idle": "2021-09-08T17:05:07.778769Z",
     "shell.execute_reply": "2021-09-08T17:05:07.777804Z",
     "shell.execute_reply.started": "2021-09-08T17:05:07.770335Z"
    }
   },
   "outputs": [],
   "source": [
    "num_unique_words = len(tokenizer.word_index.keys())\n",
    "num_unique_words"
   ]
  },
  {
   "cell_type": "code",
   "execution_count": null,
   "metadata": {
    "execution": {
     "iopub.execute_input": "2021-09-08T17:05:07.78056Z",
     "iopub.status.busy": "2021-09-08T17:05:07.780222Z",
     "iopub.status.idle": "2021-09-08T17:05:07.792364Z",
     "shell.execute_reply": "2021-09-08T17:05:07.791595Z",
     "shell.execute_reply.started": "2021-09-08T17:05:07.780526Z"
    }
   },
   "outputs": [],
   "source": [
    "len(train_tokenized_text), len(test_tokenized_text)"
   ]
  },
  {
   "cell_type": "code",
   "execution_count": null,
   "metadata": {
    "execution": {
     "iopub.execute_input": "2021-09-08T17:05:07.795538Z",
     "iopub.status.busy": "2021-09-08T17:05:07.795193Z",
     "iopub.status.idle": "2021-09-08T17:05:07.800969Z",
     "shell.execute_reply": "2021-09-08T17:05:07.80025Z",
     "shell.execute_reply.started": "2021-09-08T17:05:07.795505Z"
    }
   },
   "outputs": [],
   "source": [
    "num_context_words = 8\n",
    "embed_dim = 256\n",
    "# num_unique_words = 100715"
   ]
  },
  {
   "cell_type": "code",
   "execution_count": null,
   "metadata": {
    "execution": {
     "iopub.execute_input": "2021-09-08T17:05:07.803083Z",
     "iopub.status.busy": "2021-09-08T17:05:07.80257Z",
     "iopub.status.idle": "2021-09-08T17:05:10.142595Z",
     "shell.execute_reply": "2021-09-08T17:05:10.141615Z",
     "shell.execute_reply.started": "2021-09-08T17:05:07.803048Z"
    }
   },
   "outputs": [],
   "source": [
    "word2vec_cbow = tf.keras.models.Sequential()\n",
    "word2vec_cbow.add(tf.keras.layers.Embedding(input_dim=num_unique_words, output_dim=embed_dim, input_length=8))\n",
    "word2vec_cbow.add(tf.keras.layers.Lambda(lambda x: tf.keras.backend.mean(x, axis=1), output_shape=(embed_dim,)))\n",
    "word2vec_cbow.add(tf.keras.layers.Dense(num_unique_words, activation='softmax'))"
   ]
  },
  {
   "cell_type": "code",
   "execution_count": null,
   "metadata": {
    "execution": {
     "iopub.execute_input": "2021-09-08T17:05:10.144387Z",
     "iopub.status.busy": "2021-09-08T17:05:10.143992Z",
     "iopub.status.idle": "2021-09-08T17:05:10.159241Z",
     "shell.execute_reply": "2021-09-08T17:05:10.158494Z",
     "shell.execute_reply.started": "2021-09-08T17:05:10.144352Z"
    }
   },
   "outputs": [],
   "source": [
    "word2vec_cbow.compile(loss='categorical_crossentropy', optimizer='sgd')"
   ]
  },
  {
   "cell_type": "code",
   "execution_count": null,
   "metadata": {
    "execution": {
     "iopub.execute_input": "2021-09-08T17:05:10.161084Z",
     "iopub.status.busy": "2021-09-08T17:05:10.160577Z",
     "iopub.status.idle": "2021-09-08T17:05:14.129394Z",
     "shell.execute_reply": "2021-09-08T17:05:14.12839Z",
     "shell.execute_reply.started": "2021-09-08T17:05:10.16105Z"
    }
   },
   "outputs": [],
   "source": [
    "# word2vec_cbow.load_weights('../input/models/weights.best.hdf5')"
   ]
  },
  {
   "cell_type": "code",
   "execution_count": null,
   "metadata": {
    "execution": {
     "iopub.execute_input": "2021-09-08T17:05:14.131115Z",
     "iopub.status.busy": "2021-09-08T17:05:14.130714Z",
     "iopub.status.idle": "2021-09-08T17:05:14.138888Z",
     "shell.execute_reply": "2021-09-08T17:05:14.138006Z",
     "shell.execute_reply.started": "2021-09-08T17:05:14.131078Z"
    }
   },
   "outputs": [],
   "source": [
    "word2vec_cbow.summary()"
   ]
  },
  {
   "cell_type": "code",
   "execution_count": null,
   "metadata": {
    "execution": {
     "iopub.execute_input": "2021-09-08T17:05:14.140939Z",
     "iopub.status.busy": "2021-09-08T17:05:14.140363Z",
     "iopub.status.idle": "2021-09-08T17:05:14.149449Z",
     "shell.execute_reply": "2021-09-08T17:05:14.148588Z",
     "shell.execute_reply.started": "2021-09-08T17:05:14.140903Z"
    }
   },
   "outputs": [],
   "source": [
    "def get_training_data(tokenized_data):\n",
    "    for _, sentence in enumerate(tokenized_data):\n",
    "        for c, i in enumerate(range(4, len(sentence)-4)):\n",
    "            contexts = [sentence[i-4:i]+sentence[i+1:i+5]]\n",
    "            target = sentence[i]\n",
    "\n",
    "            contexts = tf.keras.preprocessing.sequence.pad_sequences(contexts, maxlen=8)\n",
    "            target = tf.keras.utils.to_categorical(target, num_unique_words).reshape(1,num_unique_words)\n",
    "        \n",
    "            yield (contexts, target)"
   ]
  },
  {
   "cell_type": "code",
   "execution_count": null,
   "metadata": {
    "execution": {
     "iopub.execute_input": "2021-09-08T17:05:14.15123Z",
     "iopub.status.busy": "2021-09-08T17:05:14.150794Z",
     "iopub.status.idle": "2021-09-08T17:05:14.163237Z",
     "shell.execute_reply": "2021-09-08T17:05:14.162372Z",
     "shell.execute_reply.started": "2021-09-08T17:05:14.151186Z"
    }
   },
   "outputs": [],
   "source": [
    "checkpointer = tf.keras.callbacks.ModelCheckpoint(filepath='models/weights.best.hdf5', \n",
    "                                                  verbose = 1, \n",
    "                                                  save_best_only = True)"
   ]
  },
  {
   "cell_type": "code",
   "execution_count": null,
   "metadata": {
    "execution": {
     "iopub.execute_input": "2021-09-08T17:05:14.166809Z",
     "iopub.status.busy": "2021-09-08T17:05:14.166331Z",
     "iopub.status.idle": "2021-09-08T17:07:26.792914Z",
     "shell.execute_reply": "2021-09-08T17:07:26.791205Z",
     "shell.execute_reply.started": "2021-09-08T17:05:14.166783Z"
    }
   },
   "outputs": [],
   "source": [
    "word2vec_cbow.fit_generator(get_training_data(train_tokenized_text), \n",
    "                            epochs=25,\n",
    "                            steps_per_epoch=500000,\n",
    "                            validation_data = get_training_data(test_tokenized_text),\n",
    "                            validation_steps=50000,\n",
    "                            callbacks = [checkpointer],\n",
    "                            verbose=1)"
   ]
  },
  {
   "cell_type": "code",
   "execution_count": null,
   "metadata": {
    "execution": {
     "iopub.execute_input": "2021-09-08T17:39:31.428579Z",
     "iopub.status.busy": "2021-09-08T17:39:31.428243Z",
     "iopub.status.idle": "2021-09-08T17:39:31.47097Z",
     "shell.execute_reply": "2021-09-08T17:39:31.469513Z",
     "shell.execute_reply.started": "2021-09-08T17:39:31.42855Z"
    }
   },
   "outputs": [],
   "source": [
    "f = open('models/cbow_vecs.txt' ,'w')\n",
    "f.write('{} {}\\n'.format(len(tokenizer.word_index), 256))"
   ]
  },
  {
   "cell_type": "code",
   "execution_count": null,
   "metadata": {
    "execution": {
     "iopub.execute_input": "2021-09-08T17:39:31.633353Z",
     "iopub.status.busy": "2021-09-08T17:39:31.633056Z",
     "iopub.status.idle": "2021-09-08T17:39:53.018076Z",
     "shell.execute_reply": "2021-09-08T17:39:53.016581Z",
     "shell.execute_reply.started": "2021-09-08T17:39:31.633319Z"
    }
   },
   "outputs": [],
   "source": [
    "cbow_weights = word2vec_cbow.get_weights()[0]\n",
    "for word, i in tqdm(tokenizer.word_index.items()):\n",
    "    str_vec = ' '.join(map(str, list(cbow_weights[i-1, :])))\n",
    "    f.write('{} {}\\n'.format(word, str_vec))\n",
    "f.close()"
   ]
  },
  {
   "cell_type": "code",
   "execution_count": null,
   "metadata": {},
   "outputs": [],
   "source": []
  },
  {
   "cell_type": "code",
   "execution_count": null,
   "metadata": {},
   "outputs": [],
   "source": []
  },
  {
   "cell_type": "markdown",
   "metadata": {},
   "source": [
    "# Section 2:- Inference"
   ]
  },
  {
   "cell_type": "code",
   "execution_count": 84,
   "metadata": {
    "execution": {
     "iopub.execute_input": "2021-09-11T06:29:54.563347Z",
     "iopub.status.busy": "2021-09-11T06:29:54.562994Z",
     "iopub.status.idle": "2021-09-11T06:29:54.574435Z",
     "shell.execute_reply": "2021-09-11T06:29:54.573311Z",
     "shell.execute_reply.started": "2021-09-11T06:29:54.563316Z"
    }
   },
   "outputs": [],
   "source": [
    "# Function to calculate the top10 words and plot using t-SNE\n",
    "def plot_top10_words(word, cbow_own):\n",
    "\n",
    "    def tsne_plot(results):\n",
    "        words = []\n",
    "        embeds = []\n",
    "\n",
    "        for res in results:\n",
    "            embeds.append(res[1])\n",
    "            words.append(res[0])\n",
    "        \n",
    "        tsne_model = TSNE(init='pca')\n",
    "        res_embeds = tsne_model.fit_transform(embeds)\n",
    "\n",
    "        x_axis_val = []\n",
    "        y_axis_val = []\n",
    "        for val in res_embeds:\n",
    "            x_axis_val.append(val[0])\n",
    "            y_axis_val.append(val[1])\n",
    "            \n",
    "        plt.figure(figsize=(10, 10)) \n",
    "        for i in range(len(x_axis_val)):\n",
    "            plt.scatter(x_axis_val[i],y_axis_val[i])\n",
    "            plt.annotate(words[i],\n",
    "                        xy=(x_axis_val[i],y_axis_val[i]),\n",
    "                        xytext=(5, 2),\n",
    "                        textcoords='offset points',\n",
    "                        ha='right',\n",
    "                        va='bottom')\n",
    "        plt.show()\n",
    "    \n",
    "    similar_words = cbow_own.most_similar(positive=[word], topn = 10)\n",
    "    res = {}\n",
    "    for i, embed in tqdm(enumerate(similar_words)):\n",
    "        res[embed[0]] = [embed[1], cbow_own[embed[0]]]\n",
    "\n",
    "\n",
    "    results = []\n",
    "    for t in sorted(res.items(), key=lambda item: item[1][0], reverse=True)[0:10]:\n",
    "        results.append([t[0], t[1][1]])\n",
    "\n",
    "    print('Word:-', word)\n",
    "    print('Words:-', end='\\t')\n",
    "    for res in results:\n",
    "        print(res[0], end=', ')\n",
    "    print()\n",
    "\n",
    "    tsne_plot(results)"
   ]
  },
  {
   "cell_type": "code",
   "execution_count": 3,
   "metadata": {
    "execution": {
     "iopub.execute_input": "2021-09-11T06:11:17.896629Z",
     "iopub.status.busy": "2021-09-11T06:11:17.896241Z",
     "iopub.status.idle": "2021-09-11T06:12:02.107542Z",
     "shell.execute_reply": "2021-09-11T06:12:02.106681Z",
     "shell.execute_reply.started": "2021-09-11T06:11:17.896599Z"
    }
   },
   "outputs": [],
   "source": [
    "#Load self trained cbow model\n",
    "cbow_own = gensim.models.KeyedVectors.load_word2vec_format('models/cbow_vecs.txt', binary=False)"
   ]
  },
  {
   "cell_type": "markdown",
   "metadata": {},
   "source": [
    "# Question 3"
   ]
  },
  {
   "cell_type": "code",
   "execution_count": 85,
   "metadata": {
    "execution": {
     "iopub.execute_input": "2021-09-11T06:30:05.391520Z",
     "iopub.status.busy": "2021-09-11T06:30:05.391182Z",
     "iopub.status.idle": "2021-09-11T06:30:05.878696Z",
     "shell.execute_reply": "2021-09-11T06:30:05.877891Z",
     "shell.execute_reply.started": "2021-09-11T06:30:05.391491Z"
    }
   },
   "outputs": [
    {
     "name": "stderr",
     "output_type": "stream",
     "text": [
      "10it [00:00, 56148.65it/s]\n"
     ]
    },
    {
     "name": "stdout",
     "output_type": "stream",
     "text": [
      "Word:- payment\n",
      "Words:-\tpilot, grey, contacts, receiving, pounds, savings, 690, contract, d300, compression, \n"
     ]
    },
    {
     "data": {
      "image/png": "[encoded data removed]",
      "text/plain": [
       "<Figure size 720x720 with 1 Axes>"
      ]
     },
     "metadata": {
      "needs_background": "light"
     },
     "output_type": "display_data"
    }
   ],
   "source": [
    "plot_top10_words('payment', cbow_own)"
   ]
  },
  {
   "cell_type": "code",
   "execution_count": 86,
   "metadata": {
    "execution": {
     "iopub.execute_input": "2021-09-11T06:30:05.880623Z",
     "iopub.status.busy": "2021-09-11T06:30:05.880243Z",
     "iopub.status.idle": "2021-09-11T06:30:06.367624Z",
     "shell.execute_reply": "2021-09-11T06:30:06.366841Z",
     "shell.execute_reply.started": "2021-09-11T06:30:05.880584Z"
    }
   },
   "outputs": [
    {
     "name": "stderr",
     "output_type": "stream",
     "text": [
      "10it [00:00, 51781.53it/s]\n"
     ]
    },
    {
     "name": "stdout",
     "output_type": "stream",
     "text": [
      "Word:- laptop\n",
      "Words:-\tsmart, games, different, please, router, comments, obviously, made, order, xbox, \n"
     ]
    },
    {
     "data": {
      "image/png": "[encoded data removed]",
      "text/plain": [
       "<Figure size 720x720 with 1 Axes>"
      ]
     },
     "metadata": {
      "needs_background": "light"
     },
     "output_type": "display_data"
    }
   ],
   "source": [
    "plot_top10_words('laptop', cbow_own)"
   ]
  },
  {
   "cell_type": "code",
   "execution_count": 87,
   "metadata": {
    "execution": {
     "iopub.execute_input": "2021-09-11T06:30:06.369658Z",
     "iopub.status.busy": "2021-09-11T06:30:06.369286Z",
     "iopub.status.idle": "2021-09-11T06:30:06.862198Z",
     "shell.execute_reply": "2021-09-11T06:30:06.861385Z",
     "shell.execute_reply.started": "2021-09-11T06:30:06.369620Z"
    }
   },
   "outputs": [
    {
     "name": "stderr",
     "output_type": "stream",
     "text": [
      "10it [00:00, 54755.93it/s]\n"
     ]
    },
    {
     "name": "stdout",
     "output_type": "stream",
     "text": [
      "Word:- music\n",
      "Words:-\tkept, earphone, safe, biggest, windows, making, cameras, tabs, keeps, laptops, \n"
     ]
    },
    {
     "data": {
      "image/png": "[encoded data removed]",
      "text/plain": [
       "<Figure size 720x720 with 1 Axes>"
      ]
     },
     "metadata": {
      "needs_background": "light"
     },
     "output_type": "display_data"
    }
   ],
   "source": [
    "plot_top10_words('music', cbow_own)"
   ]
  },
  {
   "cell_type": "code",
   "execution_count": 100,
   "metadata": {
    "execution": {
     "iopub.execute_input": "2021-09-11T06:33:06.077829Z",
     "iopub.status.busy": "2021-09-11T06:33:06.077481Z",
     "iopub.status.idle": "2021-09-11T06:33:06.581827Z",
     "shell.execute_reply": "2021-09-11T06:33:06.581079Z",
     "shell.execute_reply.started": "2021-09-11T06:33:06.077786Z"
    }
   },
   "outputs": [
    {
     "name": "stderr",
     "output_type": "stream",
     "text": [
      "10it [00:00, 55924.05it/s]\n"
     ]
    },
    {
     "name": "stdout",
     "output_type": "stream",
     "text": [
      "Word:- processor\n",
      "Words:-\tiphone, cf, wants, nowhere, disk, clips, connection, price, faster, useful, \n"
     ]
    },
    {
     "data": {
      "image/png": "[encoded data removed]",
      "text/plain": [
       "<Figure size 720x720 with 1 Axes>"
      ]
     },
     "metadata": {
      "needs_background": "light"
     },
     "output_type": "display_data"
    }
   ],
   "source": [
    "plot_top10_words('processor', cbow_own)"
   ]
  },
  {
   "cell_type": "code",
   "execution_count": 122,
   "metadata": {
    "execution": {
     "iopub.execute_input": "2021-09-11T06:36:58.735926Z",
     "iopub.status.busy": "2021-09-11T06:36:58.735583Z",
     "iopub.status.idle": "2021-09-11T06:36:59.294602Z",
     "shell.execute_reply": "2021-09-11T06:36:59.293278Z",
     "shell.execute_reply.started": "2021-09-11T06:36:58.735892Z"
    }
   },
   "outputs": [
    {
     "name": "stderr",
     "output_type": "stream",
     "text": [
      "10it [00:00, 47934.90it/s]\n"
     ]
    },
    {
     "name": "stdout",
     "output_type": "stream",
     "text": [
      "Word:- screen\n",
      "Words:-\tcover, connections, 1080p, seen, non, lens, wide, used, don, lenses, \n"
     ]
    },
    {
     "data": {
      "image/png": "[encoded data removed]",
      "text/plain": [
       "<Figure size 720x720 with 1 Axes>"
      ]
     },
     "metadata": {
      "needs_background": "light"
     },
     "output_type": "display_data"
    }
   ],
   "source": [
    "plot_top10_words('screen', cbow_own)"
   ]
  },
  {
   "cell_type": "markdown",
   "metadata": {},
   "source": [
    "# Question 4"
   ]
  },
  {
   "cell_type": "code",
   "execution_count": 123,
   "metadata": {
    "execution": {
     "iopub.execute_input": "2021-09-11T06:39:57.632973Z",
     "iopub.status.busy": "2021-09-11T06:39:57.632621Z",
     "iopub.status.idle": "2021-09-11T06:39:58.159799Z",
     "shell.execute_reply": "2021-09-11T06:39:58.158974Z",
     "shell.execute_reply.started": "2021-09-11T06:39:57.632920Z"
    }
   },
   "outputs": [
    {
     "name": "stderr",
     "output_type": "stream",
     "text": [
      "10it [00:00, 52958.38it/s]\n"
     ]
    },
    {
     "name": "stdout",
     "output_type": "stream",
     "text": [
      "Word:- camera\n",
      "Words:-\tmp3, ipod, mentioned, hours, would, make, saved, screen, amazon, enough, \n"
     ]
    },
    {
     "data": {
      "image/png": "[encoded data removed]",
      "text/plain": [
       "<Figure size 720x720 with 1 Axes>"
      ]
     },
     "metadata": {
      "needs_background": "light"
     },
     "output_type": "display_data"
    }
   ],
   "source": [
    "plot_top10_words('camera', cbow_own)"
   ]
  },
  {
   "cell_type": "code",
   "execution_count": 124,
   "metadata": {
    "execution": {
     "iopub.execute_input": "2021-09-11T06:40:07.057677Z",
     "iopub.status.busy": "2021-09-11T06:40:07.057360Z",
     "iopub.status.idle": "2021-09-11T06:41:28.551502Z",
     "shell.execute_reply": "2021-09-11T06:41:28.550356Z",
     "shell.execute_reply.started": "2021-09-11T06:40:07.057647Z"
    }
   },
   "outputs": [
    {
     "name": "stdout",
     "output_type": "stream",
     "text": [
      "--2021-09-11 06:40:07--  https://s3.amazonaws.com/dl4j-distribution/GoogleNews-vectors-negative300.bin.gz\n",
      "Resolving s3.amazonaws.com (s3.amazonaws.com)... 52.216.109.165\n",
      "Connecting to s3.amazonaws.com (s3.amazonaws.com)|52.216.109.165|:443... connected.\n",
      "HTTP request sent, awaiting response... 200 OK\n",
      "Length: 1647046227 (1.5G) [application/x-gzip]\n",
      "Saving to: ‘GoogleNews-vectors-negative300.bin.gz’\n",
      "\n",
      "GoogleNews-vectors- 100%[===================>]   1.53G  39.2MB/s    in 40s     \n",
      "\n",
      "2021-09-11 06:40:48 (39.0 MB/s) - ‘GoogleNews-vectors-negative300.bin.gz’ saved [1647046227/1647046227]\n",
      "\n"
     ]
    }
   ],
   "source": [
    "# if pretrained word2vec not present uncomment below code and run this cell\n",
    "\n",
    "# !wget -c \"https://s3.amazonaws.com/dl4j-distribution/GoogleNews-vectors-negative300.bin.gz\"\n",
    "\n",
    "# !gzip -d GoogleNews-vectors-negative300.bin.gz"
   ]
  },
  {
   "cell_type": "code",
   "execution_count": 125,
   "metadata": {
    "execution": {
     "iopub.execute_input": "2021-09-11T06:42:20.612277Z",
     "iopub.status.busy": "2021-09-11T06:42:20.611864Z",
     "iopub.status.idle": "2021-09-11T06:42:59.722383Z",
     "shell.execute_reply": "2021-09-11T06:42:59.721444Z",
     "shell.execute_reply.started": "2021-09-11T06:42:20.612242Z"
    }
   },
   "outputs": [],
   "source": [
    "# load pretrained model\n",
    "# Consider restarting before running this cell as this might crash server\n",
    "pretrained_word2vec = gensim.models.KeyedVectors.load_word2vec_format('GoogleNews-vectors-negative300.bin', binary=True)"
   ]
  },
  {
   "cell_type": "code",
   "execution_count": 126,
   "metadata": {
    "execution": {
     "iopub.execute_input": "2021-09-11T06:42:59.724310Z",
     "iopub.status.busy": "2021-09-11T06:42:59.723924Z",
     "iopub.status.idle": "2021-09-11T06:43:04.647532Z",
     "shell.execute_reply": "2021-09-11T06:43:04.646667Z",
     "shell.execute_reply.started": "2021-09-11T06:42:59.724272Z"
    }
   },
   "outputs": [
    {
     "name": "stderr",
     "output_type": "stream",
     "text": [
      "10it [00:00, 24600.02it/s]\n"
     ]
    },
    {
     "name": "stdout",
     "output_type": "stream",
     "text": [
      "Word:- camera\n",
      "Words:-\tcameras, Wagging_finger, camera_lens, camcorder, Camera, Canon_digital_SLR, Cameras, Nikon_D####_digital_SLR, tripod, EyeToy_USB, \n"
     ]
    },
    {
     "data": {
      "image/png": "[encoded data removed]",
      "text/plain": [
       "<Figure size 720x720 with 1 Axes>"
      ]
     },
     "metadata": {
      "needs_background": "light"
     },
     "output_type": "display_data"
    }
   ],
   "source": [
    "plot_top10_words('camera', pretrained_word2vec)"
   ]
  },
  {
   "cell_type": "code",
   "execution_count": null,
   "metadata": {},
   "outputs": [],
   "source": []
  }
 ],
 "metadata": {
  "kernelspec": {
   "display_name": "Python 3 (ipykernel)",
   "language": "python",
   "name": "python3"
  },
  "language_info": {
   "codemirror_mode": {
    "name": "ipython",
    "version": 3
   },
   "file_extension": ".py",
   "mimetype": "text/x-python",
   "name": "python",
   "nbconvert_exporter": "python",
   "pygments_lexer": "ipython3",
   "version": "3.8.12"
  }
 },
 "nbformat": 4,
 "nbformat_minor": 4
}
